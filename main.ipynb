{
 "cells": [
  {
   "cell_type": "code",
   "execution_count": null,
   "metadata": {},
   "outputs": [],
   "source": [
    "# https://universe.roboflow.com/selfdriving-car-qtywx/self-driving-cars-lfjou/dataset/2 (dataset link)\n",
    "# Run this to download the data\n",
    "# curl -L \"https://universe.roboflow.com/ds/s5tubfUJUz?key=dAIVR4GASb\" > roboflow.zip; unzip roboflow.zip; rm roboflow.zip"
   ]
  },
  {
   "cell_type": "code",
   "execution_count": null,
   "metadata": {},
   "outputs": [],
   "source": [
    "from ultralytics import YOLO"
   ]
  },
  {
   "cell_type": "code",
   "execution_count": null,
   "metadata": {},
   "outputs": [],
   "source": [
    "model = YOLO('yolov8n.pt') # import pre-trained model for object detection\n",
    "\n",
    "DATA_PATH = './data.yaml'\n",
    "IMGSZ = 416\n",
    "\n",
    "# hyperparameters for tuning\n",
    "BATCH = 8 # the best size for my GPU\n",
    "EPOCHS = 30\n",
    "\n",
    "results = model.train(\n",
    "    data = DATA_PATH,\n",
    "    epochs = EPOCHS,\n",
    "    batch = BATCH,\n",
    "    imgsz = IMGSZ,\n",
    "    device = 0\n",
    ")"
   ]
  }
 ],
 "metadata": {
  "kernelspec": {
   "display_name": ".venv",
   "language": "python",
   "name": "python3"
  },
  "language_info": {
   "codemirror_mode": {
    "name": "ipython",
    "version": 3
   },
   "file_extension": ".py",
   "mimetype": "text/x-python",
   "name": "python",
   "nbconvert_exporter": "python",
   "pygments_lexer": "ipython3",
   "version": "3.8.10"
  }
 },
 "nbformat": 4,
 "nbformat_minor": 2
}
